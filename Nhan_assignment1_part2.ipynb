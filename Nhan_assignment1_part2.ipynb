{
 "cells": [
  {
   "cell_type": "markdown",
   "metadata": {
    "deletable": false,
    "editable": false,
    "nbgrader": {
     "checksum": "3c8475ef3b0164c8a3e3c55a73f9ea8f",
     "grade": false,
     "grade_id": "cell-ed64e3464ddd7ba7",
     "locked": true,
     "schema_version": 1,
     "solution": false
    },
    "submit": "submit"
   },
   "source": [
    "# Assignment 1 Part 2\n",
    "## Grades\n",
    "\n",
    "The dataset file in [assets/grades.txt](assets/grades.txt) contains multiple lines of people along with their grades in a class. Fix the incorrect regex between `### BEGIN CODE` and `### END CODE` to generate a list of just those students who received a B in the course (e.g., \\[\\'John Doe\\', \\'Jane Doe\\'\\].)"
   ]
  },
  {
   "cell_type": "code",
   "execution_count": 22,
   "metadata": {
    "deletable": false,
    "nbgrader": {
     "checksum": "aaf64abc936d2fa08b84bca775364e2c",
     "grade": false,
     "grade_id": "grades",
     "locked": false,
     "schema_version": 1,
     "solution": true
    }
   },
   "outputs": [
    {
     "data": {
      "text/plain": [
       "['Bell Kassulke',\n",
       " 'Simon Loidl',\n",
       " 'Elias Jovanovic',\n",
       " 'Hakim Botros',\n",
       " 'Emilie Lorentsen',\n",
       " 'Jake Wood',\n",
       " 'Fatemeh Akhtar',\n",
       " 'Kim Weston',\n",
       " 'Yasmin Dar',\n",
       " 'Viswamitra Upandhye',\n",
       " 'Killian Kaufman',\n",
       " 'Elwood Page',\n",
       " 'Elodie Booker',\n",
       " 'Adnan Chen',\n",
       " 'Hank Spinka',\n",
       " 'Hannah Bayer']"
      ]
     },
     "execution_count": 22,
     "metadata": {},
     "output_type": "execute_result"
    }
   ],
   "source": [
    "import re\n",
    "\n",
    "def student_grades():\n",
    "    with open (\"assets/grades.txt\", \"r\") as file:\n",
    "        grades = file.read()\n",
    "\n",
    "    ### BEGIN CODE\n",
    "    matches = [x[0] for x in re.findall(r\"([\\w ]*)(\\:\\ B)\", grades)]\n",
    "    ### END CODE\n",
    "        \n",
    "        \n",
    "    # YOUR CODE HERE\n",
    "\n",
    "    return matches  \n",
    "    \n",
    "student_grades()\n"
   ]
  },
  {
   "cell_type": "code",
   "execution_count": 21,
   "metadata": {
    "deletable": false,
    "editable": false,
    "nbgrader": {
     "checksum": "fce5378cac415725d1d549a4c6a6bcad",
     "grade": true,
     "grade_id": "correct_grades",
     "locked": true,
     "points": 1,
     "schema_version": 1,
     "solution": false
    }
   },
   "outputs": [],
   "source": [
    "assert len(student_grades()) == 16"
   ]
  },
  {
   "cell_type": "code",
   "execution_count": 2,
   "metadata": {},
   "outputs": [
    {
     "data": {
      "text/plain": [
       "'Ronald Mayr: A\\nBell Kassulke: B\\nJacqueline Rupp: A \\nAlexander Zeller: C\\nValentina Denk: C \\nSimon Loidl: B \\nElias Jovanovic: B \\nStefanie Weninger: A \\nFabian Peer: C \\nHakim Botros: B\\nEmilie Lorentsen: B\\nHerman Karlsen: C\\nNathalie Delacruz: C\\nCasey Hartman: C\\nLily Walker : A\\nGerard Wang: C\\nTony Mcdowell: C\\nJake Wood: B\\nFatemeh Akhtar: B\\nKim Weston: B\\nNicholas Beatty: A\\nKirsten Williams: C\\nVaishali Surana: C\\nCoby Mccormack: C\\nYasmin Dar: B\\nRomy Donnelly: A\\nViswamitra Upandhye: B\\nKendrick Hilpert: A\\nKillian Kaufman: B\\nElwood Page: B\\nMukti Patel: A\\nEmily Lesch: C\\nElodie Booker: B\\nJedd Kim: A\\nAnnabel Davies: A\\nAdnan Chen: B\\nJonathan Berg: C\\nHank Spinka: B\\nAgnes Schneider: C\\nKimberly Green: A\\nLola-Rose Coates: C\\nRose Christiansen: C\\nShirley Hintz: C\\nHannah Bayer: B'"
      ]
     },
     "execution_count": 2,
     "metadata": {},
     "output_type": "execute_result"
    }
   ],
   "source": [
    "with open (\"assets/grades.txt\", \"r\") as file:\n",
    "        grades = file.read()\n",
    "        \n",
    "grades"
   ]
  },
  {
   "cell_type": "code",
   "execution_count": 19,
   "metadata": {},
   "outputs": [
    {
     "data": {
      "text/plain": [
       "16"
      ]
     },
     "execution_count": 19,
     "metadata": {},
     "output_type": "execute_result"
    }
   ],
   "source": [
    "import re\n",
    "\n",
    "[x[0] for x in re.findall(\"([\\w ]*)(\\:\\ B)\", grades)]"
   ]
  }
 ],
 "metadata": {
  "kernelspec": {
   "display_name": "Python 3",
   "language": "python",
   "name": "python3"
  },
  "language_info": {
   "codemirror_mode": {
    "name": "ipython",
    "version": 3
   },
   "file_extension": ".py",
   "mimetype": "text/x-python",
   "name": "python",
   "nbconvert_exporter": "python",
   "pygments_lexer": "ipython3",
   "version": "3.7.3"
  },
  "michigan": {
   "schema_names": [
    "mads_data_manipulation_v2_assignment1_part2"
   ]
  }
 },
 "nbformat": 4,
 "nbformat_minor": 1
}
